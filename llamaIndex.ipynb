{
  "nbformat": 4,
  "nbformat_minor": 0,
  "metadata": {
    "colab": {
      "provenance": [],
      "authorship_tag": "ABX9TyNhKe/dot7eU1HUeiwGLRcj",
      "include_colab_link": true
    },
    "kernelspec": {
      "name": "python3",
      "display_name": "Python 3"
    },
    "language_info": {
      "name": "python"
    },
    "widgets": {
      "application/vnd.jupyter.widget-state+json": {
        "fdd43547f7614d47beb1586c60ad748b": {
          "model_module": "@jupyter-widgets/controls",
          "model_name": "HBoxModel",
          "model_module_version": "1.5.0",
          "state": {
            "_dom_classes": [],
            "_model_module": "@jupyter-widgets/controls",
            "_model_module_version": "1.5.0",
            "_model_name": "HBoxModel",
            "_view_count": null,
            "_view_module": "@jupyter-widgets/controls",
            "_view_module_version": "1.5.0",
            "_view_name": "HBoxView",
            "box_style": "",
            "children": [
              "IPY_MODEL_6d2caaac7d10498e9ebe39663f6469ea",
              "IPY_MODEL_830c6d396d18474aa14e1d14320c7fe7",
              "IPY_MODEL_61da8954dd9d4edbb8817e9cba20fa12"
            ],
            "layout": "IPY_MODEL_bdde7c722da64b688d46be1f8fbaf555"
          }
        },
        "6d2caaac7d10498e9ebe39663f6469ea": {
          "model_module": "@jupyter-widgets/controls",
          "model_name": "HTMLModel",
          "model_module_version": "1.5.0",
          "state": {
            "_dom_classes": [],
            "_model_module": "@jupyter-widgets/controls",
            "_model_module_version": "1.5.0",
            "_model_name": "HTMLModel",
            "_view_count": null,
            "_view_module": "@jupyter-widgets/controls",
            "_view_module_version": "1.5.0",
            "_view_name": "HTMLView",
            "description": "",
            "description_tooltip": null,
            "layout": "IPY_MODEL_c2ec0caddd914da88df1fcf2d4ec1225",
            "placeholder": "​",
            "style": "IPY_MODEL_4aafed29ff814aeeaaac732e3047c8f3",
            "value": "Parsing nodes: 100%"
          }
        },
        "830c6d396d18474aa14e1d14320c7fe7": {
          "model_module": "@jupyter-widgets/controls",
          "model_name": "FloatProgressModel",
          "model_module_version": "1.5.0",
          "state": {
            "_dom_classes": [],
            "_model_module": "@jupyter-widgets/controls",
            "_model_module_version": "1.5.0",
            "_model_name": "FloatProgressModel",
            "_view_count": null,
            "_view_module": "@jupyter-widgets/controls",
            "_view_module_version": "1.5.0",
            "_view_name": "ProgressView",
            "bar_style": "success",
            "description": "",
            "description_tooltip": null,
            "layout": "IPY_MODEL_a89a9c329e124d4f9eb7e32c2d0fc8ec",
            "max": 63,
            "min": 0,
            "orientation": "horizontal",
            "style": "IPY_MODEL_7a0cbd6598264549a779dc70c46ef3bf",
            "value": 63
          }
        },
        "61da8954dd9d4edbb8817e9cba20fa12": {
          "model_module": "@jupyter-widgets/controls",
          "model_name": "HTMLModel",
          "model_module_version": "1.5.0",
          "state": {
            "_dom_classes": [],
            "_model_module": "@jupyter-widgets/controls",
            "_model_module_version": "1.5.0",
            "_model_name": "HTMLModel",
            "_view_count": null,
            "_view_module": "@jupyter-widgets/controls",
            "_view_module_version": "1.5.0",
            "_view_name": "HTMLView",
            "description": "",
            "description_tooltip": null,
            "layout": "IPY_MODEL_5b7c645c6170438dba01dc2f7b4b51fa",
            "placeholder": "​",
            "style": "IPY_MODEL_6f0c0b0da64441b5b19680d3ec792a98",
            "value": " 63/63 [00:00&lt;00:00, 165.24it/s]"
          }
        },
        "bdde7c722da64b688d46be1f8fbaf555": {
          "model_module": "@jupyter-widgets/base",
          "model_name": "LayoutModel",
          "model_module_version": "1.2.0",
          "state": {
            "_model_module": "@jupyter-widgets/base",
            "_model_module_version": "1.2.0",
            "_model_name": "LayoutModel",
            "_view_count": null,
            "_view_module": "@jupyter-widgets/base",
            "_view_module_version": "1.2.0",
            "_view_name": "LayoutView",
            "align_content": null,
            "align_items": null,
            "align_self": null,
            "border": null,
            "bottom": null,
            "display": null,
            "flex": null,
            "flex_flow": null,
            "grid_area": null,
            "grid_auto_columns": null,
            "grid_auto_flow": null,
            "grid_auto_rows": null,
            "grid_column": null,
            "grid_gap": null,
            "grid_row": null,
            "grid_template_areas": null,
            "grid_template_columns": null,
            "grid_template_rows": null,
            "height": null,
            "justify_content": null,
            "justify_items": null,
            "left": null,
            "margin": null,
            "max_height": null,
            "max_width": null,
            "min_height": null,
            "min_width": null,
            "object_fit": null,
            "object_position": null,
            "order": null,
            "overflow": null,
            "overflow_x": null,
            "overflow_y": null,
            "padding": null,
            "right": null,
            "top": null,
            "visibility": null,
            "width": null
          }
        },
        "c2ec0caddd914da88df1fcf2d4ec1225": {
          "model_module": "@jupyter-widgets/base",
          "model_name": "LayoutModel",
          "model_module_version": "1.2.0",
          "state": {
            "_model_module": "@jupyter-widgets/base",
            "_model_module_version": "1.2.0",
            "_model_name": "LayoutModel",
            "_view_count": null,
            "_view_module": "@jupyter-widgets/base",
            "_view_module_version": "1.2.0",
            "_view_name": "LayoutView",
            "align_content": null,
            "align_items": null,
            "align_self": null,
            "border": null,
            "bottom": null,
            "display": null,
            "flex": null,
            "flex_flow": null,
            "grid_area": null,
            "grid_auto_columns": null,
            "grid_auto_flow": null,
            "grid_auto_rows": null,
            "grid_column": null,
            "grid_gap": null,
            "grid_row": null,
            "grid_template_areas": null,
            "grid_template_columns": null,
            "grid_template_rows": null,
            "height": null,
            "justify_content": null,
            "justify_items": null,
            "left": null,
            "margin": null,
            "max_height": null,
            "max_width": null,
            "min_height": null,
            "min_width": null,
            "object_fit": null,
            "object_position": null,
            "order": null,
            "overflow": null,
            "overflow_x": null,
            "overflow_y": null,
            "padding": null,
            "right": null,
            "top": null,
            "visibility": null,
            "width": null
          }
        },
        "4aafed29ff814aeeaaac732e3047c8f3": {
          "model_module": "@jupyter-widgets/controls",
          "model_name": "DescriptionStyleModel",
          "model_module_version": "1.5.0",
          "state": {
            "_model_module": "@jupyter-widgets/controls",
            "_model_module_version": "1.5.0",
            "_model_name": "DescriptionStyleModel",
            "_view_count": null,
            "_view_module": "@jupyter-widgets/base",
            "_view_module_version": "1.2.0",
            "_view_name": "StyleView",
            "description_width": ""
          }
        },
        "a89a9c329e124d4f9eb7e32c2d0fc8ec": {
          "model_module": "@jupyter-widgets/base",
          "model_name": "LayoutModel",
          "model_module_version": "1.2.0",
          "state": {
            "_model_module": "@jupyter-widgets/base",
            "_model_module_version": "1.2.0",
            "_model_name": "LayoutModel",
            "_view_count": null,
            "_view_module": "@jupyter-widgets/base",
            "_view_module_version": "1.2.0",
            "_view_name": "LayoutView",
            "align_content": null,
            "align_items": null,
            "align_self": null,
            "border": null,
            "bottom": null,
            "display": null,
            "flex": null,
            "flex_flow": null,
            "grid_area": null,
            "grid_auto_columns": null,
            "grid_auto_flow": null,
            "grid_auto_rows": null,
            "grid_column": null,
            "grid_gap": null,
            "grid_row": null,
            "grid_template_areas": null,
            "grid_template_columns": null,
            "grid_template_rows": null,
            "height": null,
            "justify_content": null,
            "justify_items": null,
            "left": null,
            "margin": null,
            "max_height": null,
            "max_width": null,
            "min_height": null,
            "min_width": null,
            "object_fit": null,
            "object_position": null,
            "order": null,
            "overflow": null,
            "overflow_x": null,
            "overflow_y": null,
            "padding": null,
            "right": null,
            "top": null,
            "visibility": null,
            "width": null
          }
        },
        "7a0cbd6598264549a779dc70c46ef3bf": {
          "model_module": "@jupyter-widgets/controls",
          "model_name": "ProgressStyleModel",
          "model_module_version": "1.5.0",
          "state": {
            "_model_module": "@jupyter-widgets/controls",
            "_model_module_version": "1.5.0",
            "_model_name": "ProgressStyleModel",
            "_view_count": null,
            "_view_module": "@jupyter-widgets/base",
            "_view_module_version": "1.2.0",
            "_view_name": "StyleView",
            "bar_color": null,
            "description_width": ""
          }
        },
        "5b7c645c6170438dba01dc2f7b4b51fa": {
          "model_module": "@jupyter-widgets/base",
          "model_name": "LayoutModel",
          "model_module_version": "1.2.0",
          "state": {
            "_model_module": "@jupyter-widgets/base",
            "_model_module_version": "1.2.0",
            "_model_name": "LayoutModel",
            "_view_count": null,
            "_view_module": "@jupyter-widgets/base",
            "_view_module_version": "1.2.0",
            "_view_name": "LayoutView",
            "align_content": null,
            "align_items": null,
            "align_self": null,
            "border": null,
            "bottom": null,
            "display": null,
            "flex": null,
            "flex_flow": null,
            "grid_area": null,
            "grid_auto_columns": null,
            "grid_auto_flow": null,
            "grid_auto_rows": null,
            "grid_column": null,
            "grid_gap": null,
            "grid_row": null,
            "grid_template_areas": null,
            "grid_template_columns": null,
            "grid_template_rows": null,
            "height": null,
            "justify_content": null,
            "justify_items": null,
            "left": null,
            "margin": null,
            "max_height": null,
            "max_width": null,
            "min_height": null,
            "min_width": null,
            "object_fit": null,
            "object_position": null,
            "order": null,
            "overflow": null,
            "overflow_x": null,
            "overflow_y": null,
            "padding": null,
            "right": null,
            "top": null,
            "visibility": null,
            "width": null
          }
        },
        "6f0c0b0da64441b5b19680d3ec792a98": {
          "model_module": "@jupyter-widgets/controls",
          "model_name": "DescriptionStyleModel",
          "model_module_version": "1.5.0",
          "state": {
            "_model_module": "@jupyter-widgets/controls",
            "_model_module_version": "1.5.0",
            "_model_name": "DescriptionStyleModel",
            "_view_count": null,
            "_view_module": "@jupyter-widgets/base",
            "_view_module_version": "1.2.0",
            "_view_name": "StyleView",
            "description_width": ""
          }
        },
        "3ddc3e42ae814a1a8bda8dacee6115b8": {
          "model_module": "@jupyter-widgets/controls",
          "model_name": "HBoxModel",
          "model_module_version": "1.5.0",
          "state": {
            "_dom_classes": [],
            "_model_module": "@jupyter-widgets/controls",
            "_model_module_version": "1.5.0",
            "_model_name": "HBoxModel",
            "_view_count": null,
            "_view_module": "@jupyter-widgets/controls",
            "_view_module_version": "1.5.0",
            "_view_name": "HBoxView",
            "box_style": "",
            "children": [
              "IPY_MODEL_82459909f45d4d479c2ecf32c43da79f",
              "IPY_MODEL_63d45249d67c4f978df7a7a523aedc00",
              "IPY_MODEL_79cd15c382574940b22759a367a099bc"
            ],
            "layout": "IPY_MODEL_2f52a42995a24095998c83ea2f6395bf"
          }
        },
        "82459909f45d4d479c2ecf32c43da79f": {
          "model_module": "@jupyter-widgets/controls",
          "model_name": "HTMLModel",
          "model_module_version": "1.5.0",
          "state": {
            "_dom_classes": [],
            "_model_module": "@jupyter-widgets/controls",
            "_model_module_version": "1.5.0",
            "_model_name": "HTMLModel",
            "_view_count": null,
            "_view_module": "@jupyter-widgets/controls",
            "_view_module_version": "1.5.0",
            "_view_name": "HTMLView",
            "description": "",
            "description_tooltip": null,
            "layout": "IPY_MODEL_87caa2ac6acb4644832801964ee0ee5c",
            "placeholder": "​",
            "style": "IPY_MODEL_3643854e0aa84745b1437de157ccd58f",
            "value": "Generating embeddings: 100%"
          }
        },
        "63d45249d67c4f978df7a7a523aedc00": {
          "model_module": "@jupyter-widgets/controls",
          "model_name": "FloatProgressModel",
          "model_module_version": "1.5.0",
          "state": {
            "_dom_classes": [],
            "_model_module": "@jupyter-widgets/controls",
            "_model_module_version": "1.5.0",
            "_model_name": "FloatProgressModel",
            "_view_count": null,
            "_view_module": "@jupyter-widgets/controls",
            "_view_module_version": "1.5.0",
            "_view_name": "ProgressView",
            "bar_style": "success",
            "description": "",
            "description_tooltip": null,
            "layout": "IPY_MODEL_32ded4da8e0c4a34be79bef99081c836",
            "max": 117,
            "min": 0,
            "orientation": "horizontal",
            "style": "IPY_MODEL_6fdb90afb12542a1a29e25703f2d506f",
            "value": 117
          }
        },
        "79cd15c382574940b22759a367a099bc": {
          "model_module": "@jupyter-widgets/controls",
          "model_name": "HTMLModel",
          "model_module_version": "1.5.0",
          "state": {
            "_dom_classes": [],
            "_model_module": "@jupyter-widgets/controls",
            "_model_module_version": "1.5.0",
            "_model_name": "HTMLModel",
            "_view_count": null,
            "_view_module": "@jupyter-widgets/controls",
            "_view_module_version": "1.5.0",
            "_view_name": "HTMLView",
            "description": "",
            "description_tooltip": null,
            "layout": "IPY_MODEL_7879bb2425914548bba57acc657087da",
            "placeholder": "​",
            "style": "IPY_MODEL_e24998dd7df24a65bf8b92e6e07608a4",
            "value": " 117/117 [00:01&lt;00:00, 59.04it/s]"
          }
        },
        "2f52a42995a24095998c83ea2f6395bf": {
          "model_module": "@jupyter-widgets/base",
          "model_name": "LayoutModel",
          "model_module_version": "1.2.0",
          "state": {
            "_model_module": "@jupyter-widgets/base",
            "_model_module_version": "1.2.0",
            "_model_name": "LayoutModel",
            "_view_count": null,
            "_view_module": "@jupyter-widgets/base",
            "_view_module_version": "1.2.0",
            "_view_name": "LayoutView",
            "align_content": null,
            "align_items": null,
            "align_self": null,
            "border": null,
            "bottom": null,
            "display": null,
            "flex": null,
            "flex_flow": null,
            "grid_area": null,
            "grid_auto_columns": null,
            "grid_auto_flow": null,
            "grid_auto_rows": null,
            "grid_column": null,
            "grid_gap": null,
            "grid_row": null,
            "grid_template_areas": null,
            "grid_template_columns": null,
            "grid_template_rows": null,
            "height": null,
            "justify_content": null,
            "justify_items": null,
            "left": null,
            "margin": null,
            "max_height": null,
            "max_width": null,
            "min_height": null,
            "min_width": null,
            "object_fit": null,
            "object_position": null,
            "order": null,
            "overflow": null,
            "overflow_x": null,
            "overflow_y": null,
            "padding": null,
            "right": null,
            "top": null,
            "visibility": null,
            "width": null
          }
        },
        "87caa2ac6acb4644832801964ee0ee5c": {
          "model_module": "@jupyter-widgets/base",
          "model_name": "LayoutModel",
          "model_module_version": "1.2.0",
          "state": {
            "_model_module": "@jupyter-widgets/base",
            "_model_module_version": "1.2.0",
            "_model_name": "LayoutModel",
            "_view_count": null,
            "_view_module": "@jupyter-widgets/base",
            "_view_module_version": "1.2.0",
            "_view_name": "LayoutView",
            "align_content": null,
            "align_items": null,
            "align_self": null,
            "border": null,
            "bottom": null,
            "display": null,
            "flex": null,
            "flex_flow": null,
            "grid_area": null,
            "grid_auto_columns": null,
            "grid_auto_flow": null,
            "grid_auto_rows": null,
            "grid_column": null,
            "grid_gap": null,
            "grid_row": null,
            "grid_template_areas": null,
            "grid_template_columns": null,
            "grid_template_rows": null,
            "height": null,
            "justify_content": null,
            "justify_items": null,
            "left": null,
            "margin": null,
            "max_height": null,
            "max_width": null,
            "min_height": null,
            "min_width": null,
            "object_fit": null,
            "object_position": null,
            "order": null,
            "overflow": null,
            "overflow_x": null,
            "overflow_y": null,
            "padding": null,
            "right": null,
            "top": null,
            "visibility": null,
            "width": null
          }
        },
        "3643854e0aa84745b1437de157ccd58f": {
          "model_module": "@jupyter-widgets/controls",
          "model_name": "DescriptionStyleModel",
          "model_module_version": "1.5.0",
          "state": {
            "_model_module": "@jupyter-widgets/controls",
            "_model_module_version": "1.5.0",
            "_model_name": "DescriptionStyleModel",
            "_view_count": null,
            "_view_module": "@jupyter-widgets/base",
            "_view_module_version": "1.2.0",
            "_view_name": "StyleView",
            "description_width": ""
          }
        },
        "32ded4da8e0c4a34be79bef99081c836": {
          "model_module": "@jupyter-widgets/base",
          "model_name": "LayoutModel",
          "model_module_version": "1.2.0",
          "state": {
            "_model_module": "@jupyter-widgets/base",
            "_model_module_version": "1.2.0",
            "_model_name": "LayoutModel",
            "_view_count": null,
            "_view_module": "@jupyter-widgets/base",
            "_view_module_version": "1.2.0",
            "_view_name": "LayoutView",
            "align_content": null,
            "align_items": null,
            "align_self": null,
            "border": null,
            "bottom": null,
            "display": null,
            "flex": null,
            "flex_flow": null,
            "grid_area": null,
            "grid_auto_columns": null,
            "grid_auto_flow": null,
            "grid_auto_rows": null,
            "grid_column": null,
            "grid_gap": null,
            "grid_row": null,
            "grid_template_areas": null,
            "grid_template_columns": null,
            "grid_template_rows": null,
            "height": null,
            "justify_content": null,
            "justify_items": null,
            "left": null,
            "margin": null,
            "max_height": null,
            "max_width": null,
            "min_height": null,
            "min_width": null,
            "object_fit": null,
            "object_position": null,
            "order": null,
            "overflow": null,
            "overflow_x": null,
            "overflow_y": null,
            "padding": null,
            "right": null,
            "top": null,
            "visibility": null,
            "width": null
          }
        },
        "6fdb90afb12542a1a29e25703f2d506f": {
          "model_module": "@jupyter-widgets/controls",
          "model_name": "ProgressStyleModel",
          "model_module_version": "1.5.0",
          "state": {
            "_model_module": "@jupyter-widgets/controls",
            "_model_module_version": "1.5.0",
            "_model_name": "ProgressStyleModel",
            "_view_count": null,
            "_view_module": "@jupyter-widgets/base",
            "_view_module_version": "1.2.0",
            "_view_name": "StyleView",
            "bar_color": null,
            "description_width": ""
          }
        },
        "7879bb2425914548bba57acc657087da": {
          "model_module": "@jupyter-widgets/base",
          "model_name": "LayoutModel",
          "model_module_version": "1.2.0",
          "state": {
            "_model_module": "@jupyter-widgets/base",
            "_model_module_version": "1.2.0",
            "_model_name": "LayoutModel",
            "_view_count": null,
            "_view_module": "@jupyter-widgets/base",
            "_view_module_version": "1.2.0",
            "_view_name": "LayoutView",
            "align_content": null,
            "align_items": null,
            "align_self": null,
            "border": null,
            "bottom": null,
            "display": null,
            "flex": null,
            "flex_flow": null,
            "grid_area": null,
            "grid_auto_columns": null,
            "grid_auto_flow": null,
            "grid_auto_rows": null,
            "grid_column": null,
            "grid_gap": null,
            "grid_row": null,
            "grid_template_areas": null,
            "grid_template_columns": null,
            "grid_template_rows": null,
            "height": null,
            "justify_content": null,
            "justify_items": null,
            "left": null,
            "margin": null,
            "max_height": null,
            "max_width": null,
            "min_height": null,
            "min_width": null,
            "object_fit": null,
            "object_position": null,
            "order": null,
            "overflow": null,
            "overflow_x": null,
            "overflow_y": null,
            "padding": null,
            "right": null,
            "top": null,
            "visibility": null,
            "width": null
          }
        },
        "e24998dd7df24a65bf8b92e6e07608a4": {
          "model_module": "@jupyter-widgets/controls",
          "model_name": "DescriptionStyleModel",
          "model_module_version": "1.5.0",
          "state": {
            "_model_module": "@jupyter-widgets/controls",
            "_model_module_version": "1.5.0",
            "_model_name": "DescriptionStyleModel",
            "_view_count": null,
            "_view_module": "@jupyter-widgets/base",
            "_view_module_version": "1.2.0",
            "_view_name": "StyleView",
            "description_width": ""
          }
        }
      }
    }
  },
  "cells": [
    {
      "cell_type": "markdown",
      "metadata": {
        "id": "view-in-github",
        "colab_type": "text"
      },
      "source": [
        "<a href=\"https://colab.research.google.com/github/mzohaibnasir/Llamaindex/blob/main/llamaIndex.ipynb\" target=\"_parent\"><img src=\"https://colab.research.google.com/assets/colab-badge.svg\" alt=\"Open In Colab\"/></a>"
      ]
    },
    {
      "cell_type": "markdown",
      "source": [
        "# llamaIndex"
      ],
      "metadata": {
        "id": "5V6iuuOOI-dJ"
      }
    },
    {
      "cell_type": "code",
      "execution_count": null,
      "metadata": {
        "id": "143fiT-3I2Zy"
      },
      "outputs": [],
      "source": [
        "from google.colab import userdata\n",
        "openai_key = userdata.get('OPENAI_API_KEY')\n",
        "openai_key"
      ]
    },
    {
      "cell_type": "code",
      "source": [
        "! pip install llama-index openai pypdf python-dotenv"
      ],
      "metadata": {
        "id": "zlQXzO_PJAhG"
      },
      "execution_count": null,
      "outputs": []
    },
    {
      "cell_type": "code",
      "source": [
        "import os\n",
        "from dotenv import load_dotenv\n",
        "load_dotenv()\n",
        "\n"
      ],
      "metadata": {
        "colab": {
          "base_uri": "https://localhost:8080/"
        },
        "id": "bnbprdBrQn85",
        "outputId": "4334ecc0-183d-4d4f-ee3b-f555ed3c085e"
      },
      "execution_count": null,
      "outputs": [
        {
          "output_type": "execute_result",
          "data": {
            "text/plain": [
              "False"
            ]
          },
          "metadata": {},
          "execution_count": 7
        }
      ]
    },
    {
      "cell_type": "code",
      "source": [
        "os.environ['OPENAI_API_KEY'] = openai_key\n",
        "# os.environ['OPENAI_API_KEY']"
      ],
      "metadata": {
        "id": "vjl8UvMfJAjl"
      },
      "execution_count": null,
      "outputs": []
    },
    {
      "cell_type": "code",
      "source": [
        "from llama_index.core import SimpleDirectoryReader, VectorStoreIndex\n",
        "reader = SimpleDirectoryReader('./PDFs/')\n",
        "data = reader.load_data()\n",
        "len(data)"
      ],
      "metadata": {
        "colab": {
          "base_uri": "https://localhost:8080/"
        },
        "id": "JrKzVPu7JAl9",
        "outputId": "32639b27-b801-40cc-8414-05b769a7b064"
      },
      "execution_count": null,
      "outputs": [
        {
          "output_type": "execute_result",
          "data": {
            "text/plain": [
              "63"
            ]
          },
          "metadata": {},
          "execution_count": 15
        }
      ]
    },
    {
      "cell_type": "code",
      "source": [
        "print(data[0])"
      ],
      "metadata": {
        "colab": {
          "base_uri": "https://localhost:8080/"
        },
        "id": "uXGVMQNOJAoc",
        "outputId": "2e6085e7-ce81-4f92-cc74-fd59ae3bc9fc"
      },
      "execution_count": null,
      "outputs": [
        {
          "output_type": "stream",
          "name": "stdout",
          "text": [
            "Doc ID: 64db49e9-4d5f-4a74-9466-2ea9dedee053\n",
            "Text: Health Insurance Coverage Status and Type  by Geography: 2021\n",
            "and 2022 American Community Survey Briefs ACSBR-015Issued September\n",
            "2023Douglas Conway and Breauna Branch INTRODUCTION Demographic shifts\n",
            "as well as economic and govern- ment policy changes can affect\n",
            "people’s access to health coverage. For example, between 2021 and\n",
            "2022, the labor ma...\n"
          ]
        }
      ]
    },
    {
      "cell_type": "code",
      "source": [
        "print(dict(data[0]).keys())"
      ],
      "metadata": {
        "colab": {
          "base_uri": "https://localhost:8080/"
        },
        "id": "A-q3zuroJAqt",
        "outputId": "be297369-38fd-4c8b-e865-f677960e94e8"
      },
      "execution_count": null,
      "outputs": [
        {
          "output_type": "stream",
          "name": "stdout",
          "text": [
            "dict_keys(['id_', 'embedding', 'metadata', 'excluded_embed_metadata_keys', 'excluded_llm_metadata_keys', 'relationships', 'text', 'start_char_idx', 'end_char_idx', 'text_template', 'metadata_template', 'metadata_seperator'])\n"
          ]
        }
      ]
    },
    {
      "cell_type": "code",
      "source": [
        "import json\n",
        "json.dumps(dict(data[0]))"
      ],
      "metadata": {
        "id": "3fg0jkw9JAs9"
      },
      "execution_count": null,
      "outputs": []
    },
    {
      "cell_type": "code",
      "source": [
        "# convert into index\n",
        "index = VectorStoreIndex.from_documents(data,show_progress=True)\n",
        "index"
      ],
      "metadata": {
        "colab": {
          "base_uri": "https://localhost:8080/",
          "height": 98,
          "referenced_widgets": [
            "fdd43547f7614d47beb1586c60ad748b",
            "6d2caaac7d10498e9ebe39663f6469ea",
            "830c6d396d18474aa14e1d14320c7fe7",
            "61da8954dd9d4edbb8817e9cba20fa12",
            "bdde7c722da64b688d46be1f8fbaf555",
            "c2ec0caddd914da88df1fcf2d4ec1225",
            "4aafed29ff814aeeaaac732e3047c8f3",
            "a89a9c329e124d4f9eb7e32c2d0fc8ec",
            "7a0cbd6598264549a779dc70c46ef3bf",
            "5b7c645c6170438dba01dc2f7b4b51fa",
            "6f0c0b0da64441b5b19680d3ec792a98",
            "3ddc3e42ae814a1a8bda8dacee6115b8",
            "82459909f45d4d479c2ecf32c43da79f",
            "63d45249d67c4f978df7a7a523aedc00",
            "79cd15c382574940b22759a367a099bc",
            "2f52a42995a24095998c83ea2f6395bf",
            "87caa2ac6acb4644832801964ee0ee5c",
            "3643854e0aa84745b1437de157ccd58f",
            "32ded4da8e0c4a34be79bef99081c836",
            "6fdb90afb12542a1a29e25703f2d506f",
            "7879bb2425914548bba57acc657087da",
            "e24998dd7df24a65bf8b92e6e07608a4"
          ]
        },
        "id": "vAL_Pu6fJAvY",
        "outputId": "27ffaab2-dddd-4bbe-e769-86e2d2cfbe35"
      },
      "execution_count": null,
      "outputs": [
        {
          "output_type": "display_data",
          "data": {
            "text/plain": [
              "Parsing nodes:   0%|          | 0/63 [00:00<?, ?it/s]"
            ],
            "application/vnd.jupyter.widget-view+json": {
              "version_major": 2,
              "version_minor": 0,
              "model_id": "fdd43547f7614d47beb1586c60ad748b"
            }
          },
          "metadata": {}
        },
        {
          "output_type": "display_data",
          "data": {
            "text/plain": [
              "Generating embeddings:   0%|          | 0/117 [00:00<?, ?it/s]"
            ],
            "application/vnd.jupyter.widget-view+json": {
              "version_major": 2,
              "version_minor": 0,
              "model_id": "3ddc3e42ae814a1a8bda8dacee6115b8"
            }
          },
          "metadata": {}
        },
        {
          "output_type": "execute_result",
          "data": {
            "text/plain": [
              "<llama_index.core.indices.vector_store.base.VectorStoreIndex at 0x7cedfd469690>"
            ]
          },
          "metadata": {},
          "execution_count": 32
        }
      ]
    },
    {
      "cell_type": "code",
      "source": [
        "# query engine\n",
        "query_engine = index.as_query_engine()\n",
        "query_engine"
      ],
      "metadata": {
        "colab": {
          "base_uri": "https://localhost:8080/"
        },
        "id": "pFg1BMmHJAxn",
        "outputId": "9c112a00-46c0-4097-f4fb-adf995bbd8b0"
      },
      "execution_count": null,
      "outputs": [
        {
          "output_type": "execute_result",
          "data": {
            "text/plain": [
              "<llama_index.core.query_engine.retriever_query_engine.RetrieverQueryEngine at 0x7cedfc49a0b0>"
            ]
          },
          "metadata": {},
          "execution_count": 33
        }
      ]
    },
    {
      "cell_type": "code",
      "source": [
        "response = query_engine.query(\"What Are these pdfs about\")\n",
        "print(response)"
      ],
      "metadata": {
        "colab": {
          "base_uri": "https://localhost:8080/"
        },
        "id": "4SiNDVZeJAzs",
        "outputId": "5ed48f7e-7423-4893-faae-cd176687baf5"
      },
      "execution_count": null,
      "outputs": [
        {
          "output_type": "stream",
          "name": "stdout",
          "text": [
            "The PDFs contain statistical data related to different states and territories in the United States, including various numerical values and percentages associated with each location.\n"
          ]
        }
      ]
    },
    {
      "cell_type": "code",
      "source": [
        "response = query_engine.query(\"What is 'Attention is All you need'?\")\n",
        "print(response)"
      ],
      "metadata": {
        "colab": {
          "base_uri": "https://localhost:8080/"
        },
        "id": "4nPD4V9vJA10",
        "outputId": "d7959f02-24dd-4ce3-e23b-2175587c3225"
      },
      "execution_count": 45,
      "outputs": [
        {
          "output_type": "stream",
          "name": "stdout",
          "text": [
            "'Attention is All you need' is a paper that introduced the Transformer model, a type of neural network architecture that has been widely used in natural language processing tasks.\n"
          ]
        }
      ]
    },
    {
      "cell_type": "code",
      "source": [],
      "metadata": {
        "id": "XDKou3t4cucs"
      },
      "execution_count": null,
      "outputs": []
    },
    {
      "cell_type": "code",
      "source": [],
      "metadata": {
        "id": "c-VHNqXmcuZ_"
      },
      "execution_count": null,
      "outputs": []
    },
    {
      "cell_type": "code",
      "source": [],
      "metadata": {
        "id": "jbpAHglJcuWX"
      },
      "execution_count": 44,
      "outputs": []
    },
    {
      "cell_type": "markdown",
      "source": [
        "There are also some terms you'll encounter that refer to steps within each of these stages.\n",
        "\n",
        "## Loading stage#\n",
        "### Nodes and Documents:\n",
        "A Document is a container around any data source - for instance, a PDF, an API output, or retrieve data from a database. A Node is the atomic unit of data in LlamaIndex and represents a \"chunk\" of a source Document. Nodes have metadata that relate them to the document they are in and to other nodes.\n",
        "\n",
        "### Connectors:\n",
        "A data connector (often called a Reader) ingests data from different data sources and data formats into Documents and Nodes.\n",
        "\n",
        "## Indexing Stage#\n",
        "### Indexes:\n",
        "Once you've ingested your data, LlamaIndex will help you index the data into a structure that's easy to retrieve. This usually involves generating vector embeddings which are stored in a specialized database called a vector store. Indexes can also store a variety of metadata about your data.\n",
        "\n",
        "### Embeddings:\n",
        " LLMs generate numerical representations of data called embeddings. When filtering your data for relevance, LlamaIndex will convert queries into embeddings, and your vector store will find data that is numerically similar to the embedding of your query.\n",
        "\n",
        "## Querying Stage#\n",
        "### Retrievers:\n",
        "A retriever defines how to efficiently retrieve relevant context from an index when given a query. Your retrieval strategy is key to the relevancy of the data retrieved and the efficiency with which it's done.\n",
        "\n",
        "### Routers:\n",
        "A router determines which retriever will be used to retrieve relevant context from the knowledge base. More specifically, the RouterRetriever class, is responsible for selecting one or multiple candidate retrievers to execute a query. They use a selector to choose the best option based on each candidate's metadata and the query.\n",
        "\n",
        "### Node Postprocessors:\n",
        " A node postprocessor takes in a set of retrieved nodes and applies transformations, filtering, or re-ranking logic to them.\n",
        "\n",
        "### Response Synthesizers:\n",
        " A response synthesizer generates a response from an LLM, using a user query and a given set of retrieved text chunks.\n",
        "\n",
        "## Putting it all together#\n",
        "There are endless use cases for data-backed LLM applications but they can be roughly grouped into three categories:\n",
        "\n",
        "1. Query Engines:\n",
        " A query engine is an end-to-end pipeline that allows you to ask questions over your data. It takes in a natural language query, and returns a response, along with reference context retrieved and passed to the LLM.\n",
        "\n",
        "2. Chat Engines: A chat engine is an end-to-end pipeline for having a conversation with your data (multiple back-and-forth instead of a single question-and-answer).\n",
        "\n",
        "3. Agents: An agent is an automated decision-maker powered by an LLM that interacts with the world via a set of tools. Agents can take an arbitrary number of steps to complete a given task, dynamically deciding on the best course of action rather than following pre-determined steps. This gives it additional flexibility to tackle more complex tasks.\n",
        "\n"
      ],
      "metadata": {
        "id": "NSXljIfufvkn"
      }
    },
    {
      "cell_type": "code",
      "source": [
        "# from llama_index.responses import PPrintResponse\n",
        "\n",
        "from llama_index.core.data_structs import Node\n",
        "from llama_index.core.response_synthesizers import ResponseMode\n",
        "from llama_index.core import get_response_synthesizer\n",
        "\n",
        "response_synthesizer = get_response_synthesizer()\n",
        "\n",
        "\n",
        "synthesized_query_engine = index.as_query_engine(response_synthesizer=response_synthesizer)\n",
        "synthesized_query_engine\n",
        "\n",
        "\n",
        "\n",
        "response = synthesized_query_engine.query(\"What is 'Attention is All you need'?\")\n",
        "print(response)"
      ],
      "metadata": {
        "colab": {
          "base_uri": "https://localhost:8080/"
        },
        "id": "I3GnuDQ9JA33",
        "outputId": "aae735e0-322d-458e-98dc-6ea07354c423"
      },
      "execution_count": 46,
      "outputs": [
        {
          "output_type": "stream",
          "name": "stdout",
          "text": [
            "'Attention is All you need' is a paper that introduced the Transformer model, a type of neural network architecture that has been widely used in natural language processing tasks.\n"
          ]
        }
      ]
    },
    {
      "cell_type": "markdown",
      "source": [
        "1. **VectorIndexRetriever**: A retriever that uses a vector index to retrieve documents based on semantic similarity.\n",
        "2. **RetrieverQueryEngine**: A query engine that uses a retriever to retrieve documents and then answers questions based on the retrieved documents.\n"
      ],
      "metadata": {
        "id": "auGCgYyZoGAB"
      }
    },
    {
      "cell_type": "code",
      "source": [
        "from llama_index.core.retrievers import VectorIndexRetriever\n",
        "from llama_index.core.query_engine import RetrieverQueryEngine\n",
        "from llama_index.core.postprocessor import SimilarityPostprocessor\n",
        "from llama_index.core.response.pprint_utils import pprint_response\n",
        "\n",
        "from pprint import pprint\n",
        "\n",
        "vRetriever = VectorIndexRetriever(index= index, similarity_top_k=4)\n",
        "retrieverQueryEngine = RetrieverQueryEngine(retriever = vRetriever)\n",
        "# query(\"What are thesse pdfs about?\")\n",
        "response = retrieverQueryEngine.query(\"What are thesse pdfs about?\")\n",
        "pprint_response(response,show_source=True)\n"
      ],
      "metadata": {
        "id": "RPFb9tGbJA6d",
        "colab": {
          "base_uri": "https://localhost:8080/"
        },
        "outputId": "204037e4-b899-4eb4-aca2-0017c00d1c80"
      },
      "execution_count": 76,
      "outputs": [
        {
          "output_type": "stream",
          "name": "stdout",
          "text": [
            "Final Response: The PDFs contain data related to various states in the\n",
            "United States, including estimates and margins of error for different\n",
            "categories such as income, employment, and industry sectors. The\n",
            "information is sourced from the U.S. Census Bureau's 2018 Survey of\n",
            "Income and Program Participation.\n",
            "______________________________________________________________________\n",
            "Source Node 1/4\n",
            "Node ID: 2eb55b42-ac95-4444-8fe6-c5ad057ccd88\n",
            "Similarity: 0.7604724557932931\n",
            "Text: 9 0.2 3.8 0.2 4.3 0.2 *7.9 0.2 ^31.7 0.4 *39.0 0.4 Minnesota  .\n",
            "4.5 0.3 5.2 0.3 2.8 0.2 3.3 0.2 6.4 0.3 29.2 0.5 48.7 0.6 Mississippi\n",
            ". 8.8 0.5 10.3 0.5 5.7 0.5 *5.1 0.4 ^10.1 0.6 31.6 0.8 28.4 0.7\n",
            "Missouri  . ^6.3 0.3 6.8 0.3 4.1 0.2 4.2 0.3 8.5 0.3 ^33.2 0.5 *36.8\n",
            "0.4 Montana  . 5.8 0.6 6.3 0.6 3.6 0.5 4.4 0.6 9.3 0.8 ^33.9 1.3 36.7\n",
            "1.4 Nebra...\n",
            "______________________________________________________________________\n",
            "Source Node 2/4\n",
            "Node ID: 87e2235b-d13f-41a6-bb17-e3fcf745e1ee\n",
            "Similarity: 0.7593208768087353\n",
            "Text: 1 1.1 17.3 0.7 21.3 0.8 49.2 1.1 18.0 0.7 20.2 0.9 Nebraska2 .\n",
            "57.8 0.8 17.2 0.6 16.3 0.6 59.9 0.8 16.8 0.5 14.7 0.5 Nevada2 . 52.2\n",
            "0.9 11.6 0.4 20.7 0.7 51.3 0.7 11.8 0.5 20.5 0.7 New Hampshire2 . 62.0\n",
            "1.0 15.3 0.7 13.4 0.7 64.0 0.9 14.1 0.6 13.5 0.8 New Jersey2 . 61.2\n",
            "0.4 12.6 0.4 18.4 0.4 61.2 0.4 12.6 0.3 18.4 0.3 New Mexico2 . 43.8\n",
            "1.0 10.5...\n",
            "______________________________________________________________________\n",
            "Source Node 3/4\n",
            "Node ID: 7ddd2b4d-e844-434a-a283-fa53e0147ee1\n",
            "Similarity: 0.7586859133882535\n",
            "Text: The larger the MOE in relation to the size of the estimate, the\n",
            "less reliable the estimate. This  number, when added to and subtracted\n",
            "from the estimate, forms the 90 percent confidence interval.  Source:\n",
            "U.S. Census Bureau, 2018 Survey of Income and Program Participation.\n",
            "______________________________________________________________________\n",
            "Source Node 4/4\n",
            "Node ID: f4474956-b008-42df-9891-22069ba4ed9f\n",
            "Similarity: 0.7581815141338907\n",
            "Text: . . . . . . . . . . . . . . . . . . . . 92.2 0.5 3.6 0.3 N N 3.6\n",
            "0.3 8.9 0.4 Architecture and engineering  .......... 96.3 1.2 N N N N\n",
            "N N 16.0 2.8 Management  ......................... 90.3 0.9 5.4 0.7 N\n",
            "N 2.3 0.5 12.9 1.0 Service   . . . . . . . . . . . . . . . . . . . . .\n",
            ". . . . . . . 91.1 0.6 2.8 0.4 8.9 0.8 4.5 0.6 2.1 0.4 Food\n",
            "preparation...\n"
          ]
        }
      ]
    },
    {
      "cell_type": "code",
      "source": [
        "# for similarity threshold\n",
        "vRetriever = VectorIndexRetriever(index= index, similarity_top_k=4)\n",
        "\n",
        "postprocessor = SimilarityPostprocessor(similarity_cutoff=0.76)\n",
        "RetrieverQueryEngine = RetrieverQueryEngine(retriever = vRetriever,node_postprocessors=[postprocessor])\n",
        "# query(\"What are thesse pdfs about?\")\n",
        "response = RetrieverQueryEngine.query(\"What are thesse pdfs about?\")\n",
        "pprint_response(response,show_source=True)\n"
      ],
      "metadata": {
        "colab": {
          "base_uri": "https://localhost:8080/"
        },
        "id": "jZ7lL-mKyEtx",
        "outputId": "b1f393e1-7fdc-40a2-a79f-918d368bafd4"
      },
      "execution_count": 79,
      "outputs": [
        {
          "output_type": "stream",
          "name": "stdout",
          "text": [
            "Final Response: The PDF seems to contain statistical data related to\n",
            "different states in the United States, possibly focusing on various\n",
            "metrics or indicators for each state.\n",
            "______________________________________________________________________\n",
            "Source Node 1/1\n",
            "Node ID: 2eb55b42-ac95-4444-8fe6-c5ad057ccd88\n",
            "Similarity: 0.7604724557932931\n",
            "Text: 9 0.2 3.8 0.2 4.3 0.2 *7.9 0.2 ^31.7 0.4 *39.0 0.4 Minnesota  .\n",
            "4.5 0.3 5.2 0.3 2.8 0.2 3.3 0.2 6.4 0.3 29.2 0.5 48.7 0.6 Mississippi\n",
            ". 8.8 0.5 10.3 0.5 5.7 0.5 *5.1 0.4 ^10.1 0.6 31.6 0.8 28.4 0.7\n",
            "Missouri  . ^6.3 0.3 6.8 0.3 4.1 0.2 4.2 0.3 8.5 0.3 ^33.2 0.5 *36.8\n",
            "0.4 Montana  . 5.8 0.6 6.3 0.6 3.6 0.5 4.4 0.6 9.3 0.8 ^33.9 1.3 36.7\n",
            "1.4 Nebra...\n"
          ]
        }
      ]
    },
    {
      "cell_type": "code",
      "source": [],
      "metadata": {
        "id": "EZHgyUXHyGzY"
      },
      "execution_count": null,
      "outputs": []
    },
    {
      "cell_type": "code",
      "source": [],
      "metadata": {
        "id": "wNLGqlpAyG1D"
      },
      "execution_count": null,
      "outputs": []
    },
    {
      "cell_type": "code",
      "source": [],
      "metadata": {
        "id": "z7SV8Z1yyG4T"
      },
      "execution_count": null,
      "outputs": []
    },
    {
      "cell_type": "code",
      "source": [
        "# Node post process\n",
        "from llama_index.core.postprocessor import SimilarityPostprocessor\n",
        "# from llama_index.postprocessor.cohere_rerank import CohereRerank\n",
        "from llama_index.core.data_structs import Node\n",
        "from llama_index.core.schema import NodeWithScore\n",
        "\n",
        "nodes = [\n",
        "    NodeWithScore(node=Node(text=\"ABC\"), score=0.7),\n",
        "    NodeWithScore(node=Node(text=\"XYZ\"), score=0.8),\n",
        "]\n",
        "\n",
        "# similarity postprocessor: filter nodes below 0.75 similarity score\n",
        "processor = SimilarityPostprocessor(similarity_cutoff=0.75)\n",
        "filtered_nodes = processor.postprocess_nodes(nodes)\n",
        "pprint(filtered_nodes)"
      ],
      "metadata": {
        "id": "vuONi1GYJA83",
        "colab": {
          "base_uri": "https://localhost:8080/"
        },
        "outputId": "ed16cebe-097b-4f26-b55b-c6333197c4f5"
      },
      "execution_count": 70,
      "outputs": [
        {
          "output_type": "stream",
          "name": "stdout",
          "text": [
            "[NodeWithScore(node=TextNode(id_='aefe0dc6-6514-4b93-99a4-0073f7582405', embedding=None, metadata={}, excluded_embed_metadata_keys=[], excluded_llm_metadata_keys=[], relationships={}, text='XYZ', start_char_idx=None, end_char_idx=None, text_template='{metadata_str}\\n\\n{content}', metadata_template='{key}: {value}', metadata_seperator='\\n'), score=0.8)]\n",
            "[NodeWithScore(node=TextNode(id_='aefe0dc6-6514-4b93-99a4-0073f7582405', embedding=None, metadata={}, excluded_embed_metadata_keys=[], excluded_llm_metadata_keys=[], relationships={}, text='XYZ', start_char_idx=None, end_char_idx=None, text_template='{metadata_str}\\n\\n{content}', metadata_template='{key}: {value}', metadata_seperator='\\n'), score=0.8)]\n"
          ]
        }
      ]
    },
    {
      "cell_type": "code",
      "source": [],
      "metadata": {
        "id": "2Ikb94ZwJA_V"
      },
      "execution_count": null,
      "outputs": []
    },
    {
      "cell_type": "code",
      "source": [],
      "metadata": {
        "id": "vDQ1KekLJBC9"
      },
      "execution_count": null,
      "outputs": []
    },
    {
      "cell_type": "code",
      "source": [],
      "metadata": {
        "id": "AFwwiia0JBge"
      },
      "execution_count": null,
      "outputs": []
    },
    {
      "cell_type": "code",
      "source": [],
      "metadata": {
        "id": "eMKX4sxfJBjK"
      },
      "execution_count": null,
      "outputs": []
    }
  ]
}